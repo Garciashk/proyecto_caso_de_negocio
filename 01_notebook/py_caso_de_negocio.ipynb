{
  "cells": [
    {
      "cell_type": "markdown",
      "metadata": {
        "id": "dKJdXXkt9JBx"
      },
      "source": [
        "# <img style=\"float: center; padding-right: 10px;\" src=\"https://www.pikpng.com/pngl/b/467-4670553_universidad-javeriana-esslingen-am-neckar-clipart.png\" width=\"100\" height=\"150\">\n",
        "\n",
        "\n",
        "\n",
        "<h1> <strong>Métodos de Analítica II.</strong></h1> \n",
        "<h2> Para: Juan Coba Puerto.</br></h2>\n",
        "<h2>Integrantes:</br></h2>\n",
        "<h2>Andrea López Gualtero.</br></h2>\n",
        "<h2>Juan Sebastián Quiroga Bernal.</br></h2>\n",
        "<h2>Leonardo Garcia Diaz</h2>"
      ]
    },
    {
      "cell_type": "markdown",
      "metadata": {
        "id": "mT8bQRy7-Bgq"
      },
      "source": [
        "**Este colab puede ser ejecutado por cualquier usuario sin necesidad de cargar los archivos al entorno, debido a que la conexión está configurada para acceder a los archivos desde la nube**."
      ]
    },
    {
      "cell_type": "markdown",
      "metadata": {
        "id": "rNpBnxc7-GYJ"
      },
      "source": []
    },
    {
      "cell_type": "code",
      "execution_count": null,
      "metadata": {
        "id": "PR7wwyuT9AX2"
      },
      "outputs": [],
      "source": [
        "import matplotlib.pyplot as plt\n",
        "import seaborn as sns\n",
        "import pandas as pd\n",
        "import numpy as np\n",
        "import imageio\n",
        "import os"
      ]
    }
  ],
  "metadata": {
    "colab": {
      "provenance": []
    },
    "kernelspec": {
      "display_name": "Python 3",
      "name": "python3"
    },
    "language_info": {
      "name": "python",
      "version": "3.10.10"
    }
  },
  "nbformat": 4,
  "nbformat_minor": 0
}
