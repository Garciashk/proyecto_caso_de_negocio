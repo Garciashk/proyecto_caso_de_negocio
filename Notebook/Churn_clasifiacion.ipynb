{
  "cells": [
    {
      "cell_type": "markdown",
      "metadata": {
        "id": "view-in-github",
        "colab_type": "text"
      },
      "source": [
        "<a href=\"https://colab.research.google.com/github/Garciashk/proyecto_caso_de_negocio/blob/main/Notebook/Churn_clasifiacion.ipynb\" target=\"_parent\"><img src=\"https://colab.research.google.com/assets/colab-badge.svg\" alt=\"Open In Colab\"/></a>"
      ]
    },
    {
      "cell_type": "markdown",
      "metadata": {
        "id": "dKJdXXkt9JBx"
      },
      "source": [
        "# <img style=\"float: center; padding-right: 10px;\" src=\"https://www.pikpng.com/pngl/b/467-4670553_universidad-javeriana-esslingen-am-neckar-clipart.png\" width=\"100\" height=\"150\">\n",
        "\n",
        "\n",
        "\n",
        "<h1> <strong>Métodos de Analítica II.</strong></h1> \n",
        "<h2> Para: Juan Coba Puerto.</br></h2>\n",
        "<h2>Integrantes:</br></h2>\n",
        "<h2>Andrea López Gualtero.</br></h2>\n",
        "<h2>Juan Sebastián Quiroga Bernal.</br></h2>\n",
        "<h2>Leonardo H. García Díaz</h2>"
      ]
    },
    {
      "cell_type": "markdown",
      "metadata": {
        "id": "mT8bQRy7-Bgq"
      },
      "source": [
        "**Este colab puede ser ejecutado por cualquier usuario sin necesidad de cargar los archivos al entorno, debido a que la conexión está configurada para acceder a los archivos desde la nube**."
      ]
    },
    {
      "cell_type": "markdown",
      "metadata": {
        "id": "15DKRt17iXSv"
      },
      "source": [
        "<table class=\"tfo-notebook-buttons\" align=\"center\">\n",
        "\n",
        "  <td>\n",
        "    <a target=\"_blank\" href=\"https://colab.research.google.com/github/Garciashk/proyecto_caso_de_negocio/blob/main/Notebook/Churn_clasifiacion.ipynb\"><img src=\"https://colab.research.google.com/assets/colab-badge.svg\" /></a>\n",
        "  </td>\n",
        "  <td>\n",
        "    <a target=\"_blank\" href=\"https://github.com/Garciashk/proyecto_caso_de_negocio/blob/main\"><img src=\"https://www.tensorflow.org/images/GitHub-Mark-32px.png\" /></a>\n",
        "  </td>\n",
        "  \n",
        "</table>"
      ]
    },
    {
      "cell_type": "markdown",
      "source": [
        "<img style=\"display: block;-webkit-user-select: none;margin: auto;background-color: hsl(0, 0%, 90%);transition: background-color 300ms;\" src=\"https://www.tractionwise.com/wp-content/uploads/2021/01/Articles-Churn-Rate_Eng.png\">"
      ],
      "metadata": {
        "id": "vwM-Hgnfmwab"
      }
    },
    {
      "cell_type": "markdown",
      "source": [
        "<h1> <strong> Proyecto Caso de Negocio:</strong>Predicción de churn en un Banco</h1> </br> </br> <h2>Durante el último trimestre, una institución financiera experimentó una disminución del 15% en su base de clientes activos, tras descubrir que muchos de ellos estaban migrando a otras entidades financieras a través de información externa de Datacrédito. En respuesta a esta situación, la institución decidió implementar un programa de beneficios que incluye la eliminación de cuotas de manejo, mejores tasas de interés en productos de crédito de consumo y retiros ilimitados en cajeros automáticos. Para maximizar el impacto de estos beneficios, el equipo de Análisis de Clientes necesita identificar a los clientes con mayor probabilidad de retirarse del banco y priorizar sus ofertas. El objetivo final del equipo es construir un modelo predictivo que ayude a predecir qué clientes pueden abandonar el banco y tomar medidas preventivas para retenerlos.</h2></br></br>\n",
        "<h2><ol>clientnum : Identificador único del cliente.</ol>\n",
        "<ol>attrition_flag : (Variable Objetivo) Indica si el cliente se fue a otro banco o no.</ol>\n",
        "<ol>customer_age : Edad del cliente.</ol>\n",
        "<ol>gender : Sexo del cliente.</ol>\n",
        "<ol>dependent_count : Número de personas económicamente dependientes del cliente.</ol>\n",
        "<ol>education_level : Nivel de Educación del Cliente.</ol>\n",
        "<ol>marital_status : Estado Civil del Cliente.</ol>\n",
        "<ol>income_category : Categoría de Ingresos del Cliente.</ol>\n",
        "<ol>card_category : Categoría de tarjeta del cliente.</ol>\n",
        "<ol>months_on_book : Antigüedad del cliente.</ol>\n",
        "<ol>total_relationship_count : Total de productos que tiene el cliente con el banco.</ol>\n",
        "<ol>months_inactive_12_mon : Número de meses en que el cliente estuvo inactivo en el último año.</ol>\n",
        "<ol>contacts_count_12_mon : Número de contactos con el cliente en el último año.</ol>\n",
        "<ol>credit_limit : Cupo de crédito del cliente.</ol>\n",
        "<ol>total_revolving_bal : Balance de crédito rotativo del cliente.</ol>\n",
        "<ol>avg_open_to_buy : Promedio de cupo disponible en tarjetas de crédito</ol>\n",
        "<ol>total_amt_chng_q4_q1 : Cambio en el valor total de transacciones entre Q4 y Q1.</ol>\n",
        "<ol>total_trans_amt : Valor total de transacciones</ol>\n",
        "<ol>total_trans_ct : Cantidad de transacciones.</ol>\n",
        "<ol>total_ct_chng_q4_q1 : Cambio en la cantidad total de transacciones entre Q4 y Q1.</ol>\n",
        "<ol>avg_utilization_ratio : Razón de utilización de la tarjeta.</ol></h2>\n",
        "\n",
        "<h2>La variable que se busca predecir en el presente notebook es attrition_flag, la cual determina si un cliente se cambio de banco o no. (Binaria).</h2>"
      ],
      "metadata": {
        "id": "2Q6fgzvzjPe5"
      }
    },
    {
      "cell_type": "markdown",
      "source": [
        "# 1. Importar librerias y base de datos.\n",
        "\n",
        "Se importarán las librerias necesarias para poder usar en el notebook."
      ],
      "metadata": {
        "id": "IjQF7b-xge2I"
      }
    },
    {
      "cell_type": "code",
      "execution_count": 27,
      "metadata": {
        "id": "LE9JHTAkiXSv"
      },
      "outputs": [],
      "source": [
        "from pydrive.auth import GoogleAuth\n",
        "from google.colab import drive\n",
        "from pydrive.drive import GoogleDrive\n",
        "from google.colab import auth\n",
        "from oauth2client.client import GoogleCredentials\n",
        "\n",
        "import seaborn as sns\n",
        "import pandas as pd\n",
        "import numpy as np\n",
        "import seaborn as sns\n",
        "import matplotlib.pyplot as plt"
      ]
    },
    {
      "cell_type": "code",
      "execution_count": 28,
      "metadata": {
        "id": "u0LwoPokiXSw",
        "colab": {
          "base_uri": "https://localhost:8080/",
          "height": 873
        },
        "outputId": "ae1a6e8f-cc3a-4d59-bb04-d32bbbcea378"
      },
      "outputs": [
        {
          "output_type": "stream",
          "name": "stdout",
          "text": [
            "<class 'pandas.core.frame.DataFrame'>\n",
            "RangeIndex: 10127 entries, 0 to 10126\n",
            "Data columns (total 21 columns):\n",
            " #   Column                    Non-Null Count  Dtype  \n",
            "---  ------                    --------------  -----  \n",
            " 0   clientnum                 10127 non-null  int64  \n",
            " 1   attrition_flag            10127 non-null  object \n",
            " 2   customer_age              10127 non-null  int64  \n",
            " 3   gender                    10127 non-null  object \n",
            " 4   dependent_count           10127 non-null  int64  \n",
            " 5   education_level           10127 non-null  object \n",
            " 6   marital_status            10127 non-null  object \n",
            " 7   income_category           10127 non-null  object \n",
            " 8   card_category             10127 non-null  object \n",
            " 9   months_on_book            10127 non-null  int64  \n",
            " 10  total_relationship_count  10127 non-null  int64  \n",
            " 11  months_inactive_12_mon    10127 non-null  int64  \n",
            " 12  contacts_count_12_mon     10127 non-null  int64  \n",
            " 13  credit_limit              10127 non-null  float64\n",
            " 14  total_revolving_bal       10127 non-null  int64  \n",
            " 15  avg_open_to_buy           10127 non-null  float64\n",
            " 16  total_amt_chng_q4_q1      10127 non-null  float64\n",
            " 17  total_trans_amt           10127 non-null  int64  \n",
            " 18  total_trans_ct            10127 non-null  int64  \n",
            " 19  total_ct_chng_q4_q1       10127 non-null  float64\n",
            " 20  avg_utilization_ratio     10127 non-null  float64\n",
            "dtypes: float64(5), int64(10), object(6)\n",
            "memory usage: 1.6+ MB\n"
          ]
        },
        {
          "output_type": "execute_result",
          "data": {
            "text/plain": [
              "   clientnum     attrition_flag  customer_age gender  dependent_count  \\\n",
              "0  768805383  Existing Customer            45      M                3   \n",
              "1  818770008  Existing Customer            49      F                5   \n",
              "2  713982108  Existing Customer            51      M                3   \n",
              "3  769911858  Existing Customer            40      F                4   \n",
              "4  709106358  Existing Customer            40      M                3   \n",
              "\n",
              "  education_level marital_status income_category card_category  \\\n",
              "0     High School        Married     $60K - $80K          Blue   \n",
              "1        Graduate         Single  Less than $40K          Blue   \n",
              "2        Graduate        Married    $80K - $120K          Blue   \n",
              "3     High School        Unknown  Less than $40K          Blue   \n",
              "4      Uneducated        Married     $60K - $80K          Blue   \n",
              "\n",
              "   months_on_book  ...  months_inactive_12_mon  contacts_count_12_mon  \\\n",
              "0              39  ...                       1                      3   \n",
              "1              44  ...                       1                      2   \n",
              "2              36  ...                       1                      0   \n",
              "3              34  ...                       4                      1   \n",
              "4              21  ...                       1                      0   \n",
              "\n",
              "   credit_limit  total_revolving_bal  avg_open_to_buy  total_amt_chng_q4_q1  \\\n",
              "0       12691.0                  777          11914.0                 1.335   \n",
              "1        8256.0                  864           7392.0                 1.541   \n",
              "2        3418.0                    0           3418.0                 2.594   \n",
              "3        3313.0                 2517            796.0                 1.405   \n",
              "4        4716.0                    0           4716.0                 2.175   \n",
              "\n",
              "   total_trans_amt  total_trans_ct  total_ct_chng_q4_q1  avg_utilization_ratio  \n",
              "0             1144              42                1.625                  0.061  \n",
              "1             1291              33                3.714                  0.105  \n",
              "2             1887              20                2.333                  0.000  \n",
              "3             1171              20                2.333                  0.760  \n",
              "4              816              28                2.500                  0.000  \n",
              "\n",
              "[5 rows x 21 columns]"
            ],
            "text/html": [
              "\n",
              "  <div id=\"df-4985dd88-2699-4760-b8a8-d209b41a95e1\">\n",
              "    <div class=\"colab-df-container\">\n",
              "      <div>\n",
              "<style scoped>\n",
              "    .dataframe tbody tr th:only-of-type {\n",
              "        vertical-align: middle;\n",
              "    }\n",
              "\n",
              "    .dataframe tbody tr th {\n",
              "        vertical-align: top;\n",
              "    }\n",
              "\n",
              "    .dataframe thead th {\n",
              "        text-align: right;\n",
              "    }\n",
              "</style>\n",
              "<table border=\"1\" class=\"dataframe\">\n",
              "  <thead>\n",
              "    <tr style=\"text-align: right;\">\n",
              "      <th></th>\n",
              "      <th>clientnum</th>\n",
              "      <th>attrition_flag</th>\n",
              "      <th>customer_age</th>\n",
              "      <th>gender</th>\n",
              "      <th>dependent_count</th>\n",
              "      <th>education_level</th>\n",
              "      <th>marital_status</th>\n",
              "      <th>income_category</th>\n",
              "      <th>card_category</th>\n",
              "      <th>months_on_book</th>\n",
              "      <th>...</th>\n",
              "      <th>months_inactive_12_mon</th>\n",
              "      <th>contacts_count_12_mon</th>\n",
              "      <th>credit_limit</th>\n",
              "      <th>total_revolving_bal</th>\n",
              "      <th>avg_open_to_buy</th>\n",
              "      <th>total_amt_chng_q4_q1</th>\n",
              "      <th>total_trans_amt</th>\n",
              "      <th>total_trans_ct</th>\n",
              "      <th>total_ct_chng_q4_q1</th>\n",
              "      <th>avg_utilization_ratio</th>\n",
              "    </tr>\n",
              "  </thead>\n",
              "  <tbody>\n",
              "    <tr>\n",
              "      <th>0</th>\n",
              "      <td>768805383</td>\n",
              "      <td>Existing Customer</td>\n",
              "      <td>45</td>\n",
              "      <td>M</td>\n",
              "      <td>3</td>\n",
              "      <td>High School</td>\n",
              "      <td>Married</td>\n",
              "      <td>$60K - $80K</td>\n",
              "      <td>Blue</td>\n",
              "      <td>39</td>\n",
              "      <td>...</td>\n",
              "      <td>1</td>\n",
              "      <td>3</td>\n",
              "      <td>12691.0</td>\n",
              "      <td>777</td>\n",
              "      <td>11914.0</td>\n",
              "      <td>1.335</td>\n",
              "      <td>1144</td>\n",
              "      <td>42</td>\n",
              "      <td>1.625</td>\n",
              "      <td>0.061</td>\n",
              "    </tr>\n",
              "    <tr>\n",
              "      <th>1</th>\n",
              "      <td>818770008</td>\n",
              "      <td>Existing Customer</td>\n",
              "      <td>49</td>\n",
              "      <td>F</td>\n",
              "      <td>5</td>\n",
              "      <td>Graduate</td>\n",
              "      <td>Single</td>\n",
              "      <td>Less than $40K</td>\n",
              "      <td>Blue</td>\n",
              "      <td>44</td>\n",
              "      <td>...</td>\n",
              "      <td>1</td>\n",
              "      <td>2</td>\n",
              "      <td>8256.0</td>\n",
              "      <td>864</td>\n",
              "      <td>7392.0</td>\n",
              "      <td>1.541</td>\n",
              "      <td>1291</td>\n",
              "      <td>33</td>\n",
              "      <td>3.714</td>\n",
              "      <td>0.105</td>\n",
              "    </tr>\n",
              "    <tr>\n",
              "      <th>2</th>\n",
              "      <td>713982108</td>\n",
              "      <td>Existing Customer</td>\n",
              "      <td>51</td>\n",
              "      <td>M</td>\n",
              "      <td>3</td>\n",
              "      <td>Graduate</td>\n",
              "      <td>Married</td>\n",
              "      <td>$80K - $120K</td>\n",
              "      <td>Blue</td>\n",
              "      <td>36</td>\n",
              "      <td>...</td>\n",
              "      <td>1</td>\n",
              "      <td>0</td>\n",
              "      <td>3418.0</td>\n",
              "      <td>0</td>\n",
              "      <td>3418.0</td>\n",
              "      <td>2.594</td>\n",
              "      <td>1887</td>\n",
              "      <td>20</td>\n",
              "      <td>2.333</td>\n",
              "      <td>0.000</td>\n",
              "    </tr>\n",
              "    <tr>\n",
              "      <th>3</th>\n",
              "      <td>769911858</td>\n",
              "      <td>Existing Customer</td>\n",
              "      <td>40</td>\n",
              "      <td>F</td>\n",
              "      <td>4</td>\n",
              "      <td>High School</td>\n",
              "      <td>Unknown</td>\n",
              "      <td>Less than $40K</td>\n",
              "      <td>Blue</td>\n",
              "      <td>34</td>\n",
              "      <td>...</td>\n",
              "      <td>4</td>\n",
              "      <td>1</td>\n",
              "      <td>3313.0</td>\n",
              "      <td>2517</td>\n",
              "      <td>796.0</td>\n",
              "      <td>1.405</td>\n",
              "      <td>1171</td>\n",
              "      <td>20</td>\n",
              "      <td>2.333</td>\n",
              "      <td>0.760</td>\n",
              "    </tr>\n",
              "    <tr>\n",
              "      <th>4</th>\n",
              "      <td>709106358</td>\n",
              "      <td>Existing Customer</td>\n",
              "      <td>40</td>\n",
              "      <td>M</td>\n",
              "      <td>3</td>\n",
              "      <td>Uneducated</td>\n",
              "      <td>Married</td>\n",
              "      <td>$60K - $80K</td>\n",
              "      <td>Blue</td>\n",
              "      <td>21</td>\n",
              "      <td>...</td>\n",
              "      <td>1</td>\n",
              "      <td>0</td>\n",
              "      <td>4716.0</td>\n",
              "      <td>0</td>\n",
              "      <td>4716.0</td>\n",
              "      <td>2.175</td>\n",
              "      <td>816</td>\n",
              "      <td>28</td>\n",
              "      <td>2.500</td>\n",
              "      <td>0.000</td>\n",
              "    </tr>\n",
              "  </tbody>\n",
              "</table>\n",
              "<p>5 rows × 21 columns</p>\n",
              "</div>\n",
              "      <button class=\"colab-df-convert\" onclick=\"convertToInteractive('df-4985dd88-2699-4760-b8a8-d209b41a95e1')\"\n",
              "              title=\"Convert this dataframe to an interactive table.\"\n",
              "              style=\"display:none;\">\n",
              "        \n",
              "  <svg xmlns=\"http://www.w3.org/2000/svg\" height=\"24px\"viewBox=\"0 0 24 24\"\n",
              "       width=\"24px\">\n",
              "    <path d=\"M0 0h24v24H0V0z\" fill=\"none\"/>\n",
              "    <path d=\"M18.56 5.44l.94 2.06.94-2.06 2.06-.94-2.06-.94-.94-2.06-.94 2.06-2.06.94zm-11 1L8.5 8.5l.94-2.06 2.06-.94-2.06-.94L8.5 2.5l-.94 2.06-2.06.94zm10 10l.94 2.06.94-2.06 2.06-.94-2.06-.94-.94-2.06-.94 2.06-2.06.94z\"/><path d=\"M17.41 7.96l-1.37-1.37c-.4-.4-.92-.59-1.43-.59-.52 0-1.04.2-1.43.59L10.3 9.45l-7.72 7.72c-.78.78-.78 2.05 0 2.83L4 21.41c.39.39.9.59 1.41.59.51 0 1.02-.2 1.41-.59l7.78-7.78 2.81-2.81c.8-.78.8-2.07 0-2.86zM5.41 20L4 18.59l7.72-7.72 1.47 1.35L5.41 20z\"/>\n",
              "  </svg>\n",
              "      </button>\n",
              "      \n",
              "  <style>\n",
              "    .colab-df-container {\n",
              "      display:flex;\n",
              "      flex-wrap:wrap;\n",
              "      gap: 12px;\n",
              "    }\n",
              "\n",
              "    .colab-df-convert {\n",
              "      background-color: #E8F0FE;\n",
              "      border: none;\n",
              "      border-radius: 50%;\n",
              "      cursor: pointer;\n",
              "      display: none;\n",
              "      fill: #1967D2;\n",
              "      height: 32px;\n",
              "      padding: 0 0 0 0;\n",
              "      width: 32px;\n",
              "    }\n",
              "\n",
              "    .colab-df-convert:hover {\n",
              "      background-color: #E2EBFA;\n",
              "      box-shadow: 0px 1px 2px rgba(60, 64, 67, 0.3), 0px 1px 3px 1px rgba(60, 64, 67, 0.15);\n",
              "      fill: #174EA6;\n",
              "    }\n",
              "\n",
              "    [theme=dark] .colab-df-convert {\n",
              "      background-color: #3B4455;\n",
              "      fill: #D2E3FC;\n",
              "    }\n",
              "\n",
              "    [theme=dark] .colab-df-convert:hover {\n",
              "      background-color: #434B5C;\n",
              "      box-shadow: 0px 1px 3px 1px rgba(0, 0, 0, 0.15);\n",
              "      filter: drop-shadow(0px 1px 2px rgba(0, 0, 0, 0.3));\n",
              "      fill: #FFFFFF;\n",
              "    }\n",
              "  </style>\n",
              "\n",
              "      <script>\n",
              "        const buttonEl =\n",
              "          document.querySelector('#df-4985dd88-2699-4760-b8a8-d209b41a95e1 button.colab-df-convert');\n",
              "        buttonEl.style.display =\n",
              "          google.colab.kernel.accessAllowed ? 'block' : 'none';\n",
              "\n",
              "        async function convertToInteractive(key) {\n",
              "          const element = document.querySelector('#df-4985dd88-2699-4760-b8a8-d209b41a95e1');\n",
              "          const dataTable =\n",
              "            await google.colab.kernel.invokeFunction('convertToInteractive',\n",
              "                                                     [key], {});\n",
              "          if (!dataTable) return;\n",
              "\n",
              "          const docLinkHtml = 'Like what you see? Visit the ' +\n",
              "            '<a target=\"_blank\" href=https://colab.research.google.com/notebooks/data_table.ipynb>data table notebook</a>'\n",
              "            + ' to learn more about interactive tables.';\n",
              "          element.innerHTML = '';\n",
              "          dataTable['output_type'] = 'display_data';\n",
              "          await google.colab.output.renderOutput(dataTable, element);\n",
              "          const docLink = document.createElement('div');\n",
              "          docLink.innerHTML = docLinkHtml;\n",
              "          element.appendChild(docLink);\n",
              "        }\n",
              "      </script>\n",
              "    </div>\n",
              "  </div>\n",
              "  "
            ]
          },
          "metadata": {},
          "execution_count": 28
        }
      ],
      "source": [
        "auth.authenticate_user()\n",
        "gauth = GoogleAuth()\n",
        "gauth.credentials = GoogleCredentials.get_application_default()\n",
        "drive = GoogleDrive(gauth)\n",
        "\n",
        "bank_churn = '1OZZSqMYtniRlgENtq3lT3DOJQrzcw50Q' \n",
        "\n",
        "\n",
        "download = drive.CreateFile({'id': bank_churn}) \n",
        "download.GetContentFile('bank_churn.csv')\n",
        "\n",
        "df = pd.read_csv(r'bank_churn.csv',sep=',')\n",
        "df.info()\n",
        "df.head()"
      ]
    },
    {
      "cell_type": "code",
      "source": [
        "df['attrition_flag'].value_counts(Normalize=True)"
      ],
      "metadata": {
        "id": "7fDtxgDNnErr",
        "outputId": "c67d5fbc-b9b4-4530-e9bc-f1ebd2be95b1",
        "colab": {
          "base_uri": "https://localhost:8080/",
          "height": 166
        }
      },
      "execution_count": 29,
      "outputs": [
        {
          "output_type": "error",
          "ename": "TypeError",
          "evalue": "ignored",
          "traceback": [
            "\u001b[0;31m---------------------------------------------------------------------------\u001b[0m",
            "\u001b[0;31mTypeError\u001b[0m                                 Traceback (most recent call last)",
            "\u001b[0;32m<ipython-input-29-a4d19abda999>\u001b[0m in \u001b[0;36m<module>\u001b[0;34m\u001b[0m\n\u001b[0;32m----> 1\u001b[0;31m \u001b[0mdf\u001b[0m\u001b[0;34m[\u001b[0m\u001b[0;34m'attrition_flag'\u001b[0m\u001b[0;34m]\u001b[0m\u001b[0;34m.\u001b[0m\u001b[0mvalue_counts\u001b[0m\u001b[0;34m(\u001b[0m\u001b[0mNormalize\u001b[0m\u001b[0;34m=\u001b[0m\u001b[0;32mTrue\u001b[0m\u001b[0;34m)\u001b[0m\u001b[0;34m\u001b[0m\u001b[0;34m\u001b[0m\u001b[0m\n\u001b[0m",
            "\u001b[0;31mTypeError\u001b[0m: value_counts() got an unexpected keyword argument 'Normalize'"
          ]
        }
      ]
    },
    {
      "cell_type": "markdown",
      "source": [
        "# 2. Exploración inciial de datos.\n"
      ],
      "metadata": {
        "id": "s9dz_O54-p64"
      }
    },
    {
      "cell_type": "code",
      "source": [
        "df.shape"
      ],
      "metadata": {
        "id": "KHT8LfTmxGyN"
      },
      "execution_count": null,
      "outputs": []
    },
    {
      "cell_type": "code",
      "source": [
        "df.columns"
      ],
      "metadata": {
        "id": "qe_xY2cqxOuw"
      },
      "execution_count": null,
      "outputs": []
    },
    {
      "cell_type": "code",
      "source": [
        "df.isna().sum() #Se evidencia que no hay nulos"
      ],
      "metadata": {
        "id": "36NNGx7LxRD0"
      },
      "execution_count": null,
      "outputs": []
    },
    {
      "cell_type": "code",
      "source": [
        "df.groupby('attrition_flag').size() #Desbalanceo"
      ],
      "metadata": {
        "id": "U8UF2gabxYpi"
      },
      "execution_count": null,
      "outputs": []
    },
    {
      "cell_type": "code",
      "source": [
        "sns.catplot('attrition_flag',data=df,kind=\"count\")"
      ],
      "metadata": {
        "id": "6MNUxWEHxdkI"
      },
      "execution_count": null,
      "outputs": []
    },
    {
      "cell_type": "code",
      "source": [
        "df.gender = df.gender.astype(\"category\") \n",
        "df.groupby('gender').size()"
      ],
      "metadata": {
        "id": "tC3c-WrGxuYn"
      },
      "execution_count": null,
      "outputs": []
    },
    {
      "cell_type": "code",
      "source": [
        "df.education_level.unique()\n",
        "df.groupby('education_level').size()"
      ],
      "metadata": {
        "id": "QrjugXWn30H1"
      },
      "execution_count": null,
      "outputs": []
    },
    {
      "cell_type": "code",
      "source": [
        "df.attrition_flag.unique()\n"
      ],
      "metadata": {
        "id": "JiKG-e6P-INk"
      },
      "execution_count": null,
      "outputs": []
    },
    {
      "cell_type": "code",
      "source": [
        "df.marital_status.unique()\n",
        "df.groupby('marital_status').size()"
      ],
      "metadata": {
        "id": "G-lJEHYQ-Pe6"
      },
      "execution_count": null,
      "outputs": []
    },
    {
      "cell_type": "code",
      "source": [
        "df.income_category.unique()\n",
        "df.groupby('income_category').size()"
      ],
      "metadata": {
        "id": "UZOV2x-J-ZHI"
      },
      "execution_count": null,
      "outputs": []
    },
    {
      "cell_type": "code",
      "source": [
        "df.card_category.unique()"
      ],
      "metadata": {
        "id": "k-Irek7_-fYJ"
      },
      "execution_count": null,
      "outputs": []
    },
    {
      "cell_type": "code",
      "source": [],
      "metadata": {
        "id": "-zubBey8sA5S"
      },
      "execution_count": null,
      "outputs": []
    },
    {
      "cell_type": "markdown",
      "source": [],
      "metadata": {
        "id": "Wv3jxf1IsChM"
      }
    },
    {
      "cell_type": "code",
      "source": [
        "#Se convierten a factor\n",
        "df.attrition_flag.astype('category')\n",
        "df.gender.astype('category')\n",
        "df.education_level.astype('category')\n",
        "df.marital_status.astype('category')\n",
        "df.income_category.astype('category')\n",
        "df.card_category.astype('category')"
      ],
      "metadata": {
        "id": "arGh0U7b_OCq"
      },
      "execution_count": null,
      "outputs": []
    },
    {
      "cell_type": "code",
      "source": [],
      "metadata": {
        "id": "0PRhyCBSzjhN"
      },
      "execution_count": null,
      "outputs": []
    },
    {
      "cell_type": "code",
      "source": [
        "#Matriz de correlaciones\n",
        "df.drop(['clientnum'], axis=1,inplace = True)\n",
        "corr_df=df.corr() \n",
        "plt.figure(figsize=(12, 10))\n",
        "sns.heatmap(corr_df, annot=True)\n",
        "plt.show()\n"
      ],
      "metadata": {
        "id": "9HtW1XwAHk_f"
      },
      "execution_count": null,
      "outputs": []
    },
    {
      "cell_type": "code",
      "source": [
        "df"
      ],
      "metadata": {
        "id": "0XjlbOEXyPhu"
      },
      "execution_count": null,
      "outputs": []
    },
    {
      "cell_type": "code",
      "source": [
        "df_1 = df.copy()"
      ],
      "metadata": {
        "id": "lFMO8MXfzZA_"
      },
      "execution_count": null,
      "outputs": []
    },
    {
      "cell_type": "code",
      "source": [
        "#Outliers\n",
        "sns.boxplot(data=df_1, x='attrition_flag', y='customer_age')\n",
        "#Add a title and y-axis label\n",
        "plt.title('Boxplot of customer_age  with a Hue Based on attrition_flag')\n",
        "plt.ylabel('customer_age')\n",
        "# Show the plot\n",
        "plt.show()\n",
        "\n",
        "# Create a violin plot of Tuition with a hue based on Is.Non.Annual.\n",
        "sns.violinplot(data=df_1, x='attrition_flag', y='customer_age')\n",
        "# Add a title and y-axis label\n",
        "plt.title('Violin Plot of customer_age with a Hue Based on attrition_flag')\n",
        "plt.ylabel('customer_flag')\n",
        "# Show the plot\n",
        "plt.show()"
      ],
      "metadata": {
        "id": "KTy-xPnbzuuy"
      },
      "execution_count": null,
      "outputs": []
    },
    {
      "cell_type": "code",
      "source": [],
      "metadata": {
        "id": "GvTxA31c-R9H"
      },
      "execution_count": null,
      "outputs": []
    },
    {
      "cell_type": "code",
      "source": [
        "\n",
        "sns.boxplot(data=df_1, x='attrition_flag', y='total_relationship_count')\n",
        "sns.boxplot(data=df_1, x='attrition_flag', y='credit_limit')"
      ],
      "metadata": {
        "id": "__lZvW6242cb"
      },
      "execution_count": null,
      "outputs": []
    },
    {
      "cell_type": "code",
      "source": [
        "sns.boxplot(data=df_1, x='attrition_flag', y='total_trans_ct')"
      ],
      "metadata": {
        "id": "VoV1mL4D7h1v"
      },
      "execution_count": null,
      "outputs": []
    },
    {
      "cell_type": "code",
      "source": [
        "# Create the histogram\n",
        "sns.histplot(data=df, y='credit_limit', hue='attrition_flag')\n",
        "\n",
        "# Add a title and x-axis label\n",
        "plt.title('Barplot of credit_limit with a Hue Based on attrition_flag')\n",
        "plt.xlabel('credit_limit')\n",
        "\n",
        "# Show the plot\n",
        "plt.show()"
      ],
      "metadata": {
        "id": "fhABJswx5i6z"
      },
      "execution_count": null,
      "outputs": []
    },
    {
      "cell_type": "code",
      "source": [
        "data = df_1.customer_age\n",
        "(counts, bins, patches) = plt.hist(data)\n",
        "plt.xlabel(\"Edad\")\n",
        "plt.ylabel(\"Cantidad\")\n",
        "plt.show()"
      ],
      "metadata": {
        "id": "xmMZB8S9-kV4"
      },
      "execution_count": null,
      "outputs": []
    },
    {
      "cell_type": "code",
      "source": [],
      "metadata": {
        "id": "q-Lawcgn_dZJ"
      },
      "execution_count": null,
      "outputs": []
    }
  ],
  "metadata": {
    "colab": {
      "provenance": [],
      "include_colab_link": true
    },
    "kernelspec": {
      "display_name": "Python 3",
      "name": "python3"
    },
    "language_info": {
      "name": "python",
      "version": "3.10.10"
    }
  },
  "nbformat": 4,
  "nbformat_minor": 0
}